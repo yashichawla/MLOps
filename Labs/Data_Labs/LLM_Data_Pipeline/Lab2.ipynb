{
 "cells": [
  {
   "cell_type": "code",
   "execution_count": 13,
   "id": "2fed0c33",
   "metadata": {},
   "outputs": [
    {
     "name": "stdout",
     "output_type": "stream",
     "text": [
      "\n",
      "Streaming Language Modeling Data Pipeline with Hugging Face Datasets\n",
      "--------------------------------------------------------------------\n",
      "Goal:\n",
      "    Demonstrate how to build a *true streaming* LM pipeline that:\n",
      "    - Processes data without loading the entire dataset into RAM.\n",
      "    - Tokenizes on the fly.\n",
      "    - Concatenates text and chunks into fixed-length blocks for LM training.\n",
      "    - Produces batches ready for training in PyTorch.\n",
      "\n",
      "Key Teaching Points:\n",
      "    1. Streaming allows us to work with web-scale corpora.\n",
      "    2. We still can do grouping/chunking in a rolling fashion.\n",
      "    3. This approach mimics real-world pipelines for large-scale LM training.\n",
      "\n"
     ]
    }
   ],
   "source": [
    "\"\"\"\n",
    "Streaming Language Modeling Data Pipeline with Hugging Face Datasets\n",
    "--------------------------------------------------------------------\n",
    "Goal:\n",
    "    Demonstrate how to build a *true streaming* LM pipeline that:\n",
    "    - Processes data without loading the entire dataset into RAM.\n",
    "    - Tokenizes on the fly.\n",
    "    - Concatenates text and chunks into fixed-length blocks for LM training.\n",
    "    - Produces batches ready for training in PyTorch.\n",
    "\n",
    "Key Teaching Points:\n",
    "    1. Streaming allows us to work with web-scale corpora.\n",
    "    2. We still can do grouping/chunking in a rolling fashion.\n",
    "    3. This approach mimics real-world pipelines for large-scale LM training.\n",
    "\"\"\"\n",
    "print(__doc__)"
   ]
  },
  {
   "cell_type": "code",
   "execution_count": 5,
   "id": "0ae182f4",
   "metadata": {},
   "outputs": [],
   "source": [
    "# !pip install transformers, AutoTokenizer, torch"
   ]
  },
  {
   "cell_type": "code",
   "execution_count": 21,
   "id": "190f9fe4",
   "metadata": {},
   "outputs": [],
   "source": [
    "from datasets import load_dataset\n",
    "from transformers import AutoTokenizer\n",
    "from torch.utils.data import IterableDataset, DataLoader\n",
    "import torch"
   ]
  },
  {
   "cell_type": "code",
   "execution_count": 14,
   "id": "04603b35",
   "metadata": {},
   "outputs": [],
   "source": [
    "# ============================================================\n",
    "# 1. Load the dataset in STREAMING mode\n",
    "# ============================================================\n",
    "# Streaming mode returns an IterableDataset — you can iterate over it\n",
    "# without having all the data in memory at once.\n",
    "stream_dataset = load_dataset(\n",
    "    \"wikitext\", \n",
    "    \"wikitext-2-raw-v1\", \n",
    "    split=\"train\", \n",
    "    streaming=True\n",
    ")"
   ]
  },
  {
   "cell_type": "code",
   "execution_count": 15,
   "id": "36818657",
   "metadata": {},
   "outputs": [],
   "source": [
    "# ============================================================\n",
    "# 2. Initialize the tokenizer\n",
    "# ============================================================\n",
    "# For GPT-2, there is no pad token by default, so we set pad_token = eos_token.\n",
    "tokenizer = AutoTokenizer.from_pretrained(\"gpt2\")\n",
    "tokenizer.pad_token = tokenizer.eos_token"
   ]
  },
  {
   "cell_type": "code",
   "execution_count": 16,
   "id": "09ee19e3",
   "metadata": {},
   "outputs": [],
   "source": [
    "# ============================================================\n",
    "# 3. Tokenization step\n",
    "# ============================================================\n",
    "# We do NOT pad/truncate here — we want raw token sequences.\n",
    "# This keeps flexibility to later concatenate across documents.\n",
    "def tokenize_function(examples):\n",
    "    return tokenizer(examples[\"text\"])\n",
    "\n",
    "# Map tokenization lazily over the streaming dataset\n",
    "tokenized_stream = stream_dataset.map(tokenize_function, batched=True)"
   ]
  },
  {
   "cell_type": "code",
   "execution_count": 20,
   "id": "d4779cf2",
   "metadata": {},
   "outputs": [],
   "source": [
    "# ============================================================\n",
    "# 4. Rolling buffer for grouping into fixed-length blocks\n",
    "# ============================================================\n",
    "# Because streaming datasets are iterators, we can't look ahead arbitrarily.\n",
    "# We'll keep a buffer that stores leftover tokens from the previous batch,\n",
    "# so we can concatenate and chunk consistently.\n",
    "block_size = 128\n",
    "\n",
    "def group_texts_streaming(dataset_iter, block_size):\n",
    "    buffer = []\n",
    "    for example in dataset_iter:\n",
    "        buffer.extend(example[\"input_ids\"])\n",
    "        while len(buffer) >= block_size:\n",
    "            chunk = buffer[:block_size]\n",
    "            buffer = buffer[block_size:]\n",
    "            yield {\n",
    "                \"input_ids\": chunk,\n",
    "                \"attention_mask\": [1] * block_size\n",
    "            }\n"
   ]
  },
  {
   "cell_type": "code",
   "execution_count": 23,
   "id": "51d766de",
   "metadata": {},
   "outputs": [],
   "source": [
    "# ============================================================\n",
    "# 5. Wrap generator in an IterableDataset\n",
    "# ============================================================\n",
    "class StreamingLMIterableDataset(IterableDataset):\n",
    "    def __init__(self, hf_iterable_dataset, block_size):\n",
    "        self.dataset = hf_iterable_dataset\n",
    "        self.block_size = block_size\n",
    "\n",
    "    def __iter__(self):\n",
    "        return group_texts_streaming(self.dataset, self.block_size)\n",
    "\n",
    "grouped_iterable_dataset = StreamingLMIterableDataset(tokenized_stream, block_size)"
   ]
  },
  {
   "cell_type": "code",
   "execution_count": 24,
   "id": "60b9f8fe",
   "metadata": {},
   "outputs": [],
   "source": [
    "# ============================================================\n",
    "# 6. Collate function for batches\n",
    "# ============================================================\n",
    "def collate_fn(batch):\n",
    "    input_ids = torch.tensor([ex[\"input_ids\"] for ex in batch], dtype=torch.long)\n",
    "    attention_mask = torch.tensor([ex[\"attention_mask\"] for ex in batch], dtype=torch.long)\n",
    "    return {\n",
    "        \"input_ids\": input_ids,\n",
    "        \"attention_mask\": attention_mask,\n",
    "        \"labels\": input_ids.clone()\n",
    "    }"
   ]
  },
  {
   "cell_type": "code",
   "execution_count": 25,
   "id": "3990a633",
   "metadata": {},
   "outputs": [],
   "source": [
    "# ============================================================\n",
    "# 7. DataLoader for streaming data\n",
    "# ============================================================\n",
    "train_loader = DataLoader(grouped_iterable_dataset, batch_size=8, collate_fn=collate_fn)"
   ]
  },
  {
   "cell_type": "code",
   "execution_count": null,
   "id": "b43f40b7",
   "metadata": {},
   "outputs": [
    {
     "name": "stdout",
     "output_type": "stream",
     "text": [
      "Sample streaming batches:\n",
      "Batch 0 -> input_ids shape: torch.Size([8, 128])\n",
      "Batch 1 -> input_ids shape: torch.Size([8, 128])\n",
      "Batch 2 -> input_ids shape: torch.Size([8, 128])\n"
     ]
    }
   ],
   "source": [
    "# ============================================================\n",
    "# 8. Iterate over a few batches\n",
    "# ============================================================\n",
    "print(\"Sample streaming batches:\")\n",
    "for i, batch in enumerate(train_loader):\n",
    "    print(f\"Batch {i} -> input_ids shape: {batch['input_ids'].shape}\")\n",
    "    if i == 2:\n",
    "        break"
   ]
  }
 ],
 "metadata": {
  "kernelspec": {
   "display_name": ".venv",
   "language": "python",
   "name": "python3"
  },
  "language_info": {
   "codemirror_mode": {
    "name": "ipython",
    "version": 3
   },
   "file_extension": ".py",
   "mimetype": "text/x-python",
   "name": "python",
   "nbconvert_exporter": "python",
   "pygments_lexer": "ipython3",
   "version": "3.10.12"
  }
 },
 "nbformat": 4,
 "nbformat_minor": 5
}
